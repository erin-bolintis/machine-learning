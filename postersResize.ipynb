{
 "cells": [
  {
   "cell_type": "code",
   "execution_count": 1,
   "id": "f55a4945-6b80-4f59-9b26-3fdd2b7ff5e5",
   "metadata": {},
   "outputs": [
    {
     "name": "stdout",
     "output_type": "stream",
     "text": [
      "Requirement already satisfied: Pillow in c:\\python\\lib\\site-packages (10.1.0)\n",
      "Requirement already satisfied: Pandas in c:\\python\\lib\\site-packages (2.1.4)\n",
      "Requirement already satisfied: numpy<2,>=1.26.0 in c:\\python\\lib\\site-packages (from Pandas) (1.26.1)\n",
      "Requirement already satisfied: python-dateutil>=2.8.2 in c:\\python\\lib\\site-packages (from Pandas) (2.8.2)\n",
      "Requirement already satisfied: pytz>=2020.1 in c:\\python\\lib\\site-packages (from Pandas) (2023.3.post1)\n",
      "Requirement already satisfied: tzdata>=2022.1 in c:\\python\\lib\\site-packages (from Pandas) (2023.3)\n",
      "Requirement already satisfied: six>=1.5 in c:\\python\\lib\\site-packages (from python-dateutil>=2.8.2->Pandas) (1.16.0)\n"
     ]
    }
   ],
   "source": [
    "# Check dependency installs\n",
    "!pip install Pillow\n",
    "!pip install Pandas"
   ]
  },
  {
   "cell_type": "code",
   "execution_count": 2,
   "id": "7227a929-cd4d-4df7-bd0a-4b3f235ccd54",
   "metadata": {},
   "outputs": [],
   "source": [
    "from PIL import Image\n",
    "import os\n",
    "\n",
    "def resize_images_in_folder(folder_path, target_width, output_folder):\n",
    "    # Create output folder if it doesn't exist\n",
    "    os.makedirs(output_folder, exist_ok=True)\n",
    "    \n",
    "    # Iterate through each file in the folder\n",
    "    for filename in os.listdir(folder_path):\n",
    "        file_path = os.path.join(folder_path, filename)\n",
    "        if os.path.isfile(file_path):\n",
    "            # Open the image\n",
    "            with Image.open(file_path) as img:\n",
    "                # Calculate the aspect ratio\n",
    "                aspect_ratio = img.width / img.height\n",
    "                # Calculate the height based on the target width and aspect ratio\n",
    "                target_height = int(target_width / aspect_ratio)\n",
    "                # Resize the image\n",
    "                resized_img = img.resize((target_width, target_height))\n",
    "                # Save the resized image to the output folder\n",
    "                output_path = os.path.join(output_folder, filename)\n",
    "                resized_img.save(output_path)\n",
    "\n",
    "def resize_images_in_multiple_folders(parent_folder, target_width, output_parent_folder):\n",
    "    # Iterate through each folder in the parent folder\n",
    "    for foldername in os.listdir(parent_folder):\n",
    "        folder_path = os.path.join(parent_folder, foldername)\n",
    "        if os.path.isdir(folder_path):\n",
    "            # Create output folder for the current folder\n",
    "            output_folder = os.path.join(output_parent_folder, foldername)\n",
    "            resize_images_in_folder(folder_path, target_width, output_folder)\n",
    "\n",
    "# Example usage\n",
    "parent_folder = \"data/posters\"\n",
    "target_width = 300\n",
    "output_parent_folder = \"data/posters-resized\"\n",
    "resize_images_in_multiple_folders(parent_folder, target_width, output_parent_folder)\n"
   ]
  },
  {
   "cell_type": "code",
   "execution_count": null,
   "id": "ac0b1e3b-a752-4337-85c4-15fb33bdb1c1",
   "metadata": {},
   "outputs": [],
   "source": []
  }
 ],
 "metadata": {
  "kernelspec": {
   "display_name": "Python 3 (ipykernel)",
   "language": "python",
   "name": "python3"
  },
  "language_info": {
   "codemirror_mode": {
    "name": "ipython",
    "version": 3
   },
   "file_extension": ".py",
   "mimetype": "text/x-python",
   "name": "python",
   "nbconvert_exporter": "python",
   "pygments_lexer": "ipython3",
   "version": "3.12.0"
  }
 },
 "nbformat": 4,
 "nbformat_minor": 5
}
